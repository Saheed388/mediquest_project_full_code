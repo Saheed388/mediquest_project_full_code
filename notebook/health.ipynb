{
 "cells": [
  {
   "cell_type": "code",
   "execution_count": null,
   "id": "0ae39cfe",
   "metadata": {},
   "outputs": [],
   "source": []
  },
  {
   "cell_type": "code",
   "execution_count": null,
   "id": "af80db0a",
   "metadata": {},
   "outputs": [],
   "source": []
  },
  {
   "cell_type": "code",
   "execution_count": null,
   "id": "f8f298c0",
   "metadata": {},
   "outputs": [
    {
     "name": "stderr",
     "output_type": "stream",
     "text": [
      "C:\\Users\\HP\\AppData\\Local\\Packages\\PythonSoftwareFoundation.Python.3.10_qbz5n2kfra8p0\\LocalCache\\local-packages\\Python310\\site-packages\\tqdm\\auto.py:21: TqdmWarning: IProgress not found. Please update jupyter and ipywidgets. See https://ipywidgets.readthedocs.io/en/stable/user_install.html\n",
      "  from .autonotebook import tqdm as notebook_tqdm\n"
     ]
    }
   ],
   "source": [
    "from dotenv import load_dotenv\n",
    "from groq import Groq\n",
    "from qdrant_client import QdrantClient\n",
    "from qdrant_client.models import PointStruct\n",
    "import json\n",
    "import os\n",
    "from tqdm import tqdm\n"
   ]
  },
  {
   "cell_type": "code",
   "execution_count": null,
   "id": "698ebb02",
   "metadata": {},
   "outputs": [],
   "source": [
    "q_client = QdrantClient(\n",
    "    url=os.getenv(\"QDRANT_URL\"),\n",
    "    api_key=os.getenv(\"QDRANT_API_KEY\")\n",
    ")"
   ]
  },
  {
   "cell_type": "code",
   "execution_count": null,
   "id": "4c500dea",
   "metadata": {},
   "outputs": [],
   "source": [
    "# "
   ]
  },
  {
   "cell_type": "code",
   "execution_count": 3,
   "id": "610dbf8e",
   "metadata": {},
   "outputs": [
    {
     "data": {
      "text/plain": [
       "CollectionsResponse(collections=[CollectionDescription(name='health-care-facility-rag')])"
      ]
     },
     "execution_count": 3,
     "metadata": {},
     "output_type": "execute_result"
    }
   ],
   "source": [
    "q_client.get_collections()"
   ]
  },
  {
   "cell_type": "code",
   "execution_count": 25,
   "id": "c7d9410d",
   "metadata": {},
   "outputs": [],
   "source": [
    "doc_url = './0022lag_river_abuja_health_data.json'\n",
    "with open(doc_url, 'rb') as doc:\n",
    "    documents_raw = json.load(doc)"
   ]
  },
  {
   "cell_type": "code",
   "execution_count": 26,
   "id": "ce36c4dc",
   "metadata": {},
   "outputs": [
    {
     "data": {
      "text/plain": [
       "{'text': 'Facility Name: Mamagi Primary Health Clinic\\nState: Fct\\nLGA: Abaji\\nWard: Alumamagi\\nFacility Level: Primary\\nOwnership: Public (Local Government)\\nStart Date: 1990-01-01\\nOperational Status: Operational\\nRegistration Status: Unknown\\nLicense Status: Not Applicable\\nHours of Operation: 12 hours\\nDoctors: 0, Nurses: 0, Midwives: 0, Pharmacists: 0, Pharmacy Technicians: 0, Dentists: 0, Dental Technicians: 0, Nurses/Midwives: 0, Lab Technicians: 0, Lab Scientists: 0, Health Records/HIM Officers: 0, Community Health Officers: 0, Community Health Extension Workers: 1, Junior CHEWs: 1, Environmental Health Workers: 0, Health Attendants/Assistants: 3\\nBeds: 8',\n",
       " 'section': 'Facility Overview',\n",
       " 'question': 'What is the summary of Mamagi Primary Health Clinic in Alumamagi, Abaji, Fct?'}"
      ]
     },
     "execution_count": 26,
     "metadata": {},
     "output_type": "execute_result"
    }
   ],
   "source": [
    "documents_raw[0]"
   ]
  },
  {
   "cell_type": "code",
   "execution_count": 27,
   "id": "6edad9a0",
   "metadata": {},
   "outputs": [],
   "source": [
    "from fastembed import TextEmbedding\n",
    "# TextEmbedding.list_supported_models()\n",
    "EMBEDDING_DIMENSIONALITY = 512\n",
    "model_handle = \"jinaai/jina-embeddings-v2-small-en\""
   ]
  },
  {
   "cell_type": "code",
   "execution_count": 17,
   "id": "bd44bd79",
   "metadata": {},
   "outputs": [],
   "source": [
    "collection_name='health-care-facility-rag'"
   ]
  },
  {
   "cell_type": "code",
   "execution_count": 18,
   "id": "d4bc5120",
   "metadata": {},
   "outputs": [
    {
     "data": {
      "text/plain": [
       "CollectionsResponse(collections=[CollectionDescription(name='health-care-facility-rag')])"
      ]
     },
     "execution_count": 18,
     "metadata": {},
     "output_type": "execute_result"
    }
   ],
   "source": [
    "q_client.get_collections()"
   ]
  },
  {
   "cell_type": "code",
   "execution_count": 35,
   "id": "95bcedce",
   "metadata": {},
   "outputs": [
    {
     "data": {
      "text/plain": [
       "True"
      ]
     },
     "execution_count": 35,
     "metadata": {},
     "output_type": "execute_result"
    }
   ],
   "source": [
    "from qdrant_client import models\n",
    "\n",
    "\n",
    "q_client.create_collection(\n",
    "    collection_name=collection_name,\n",
    "    vectors_config=models.VectorParams(\n",
    "        size=EMBEDDING_DIMENSIONALITY,  # Dimensionality of the vectors\n",
    "        distance=models.Distance.COSINE  # Distance metric for similarity sear\n",
    "    ))"
   ]
  },
  {
   "cell_type": "code",
   "execution_count": 36,
   "id": "97c3651f",
   "metadata": {},
   "outputs": [
    {
     "data": {
      "text/plain": [
       "UpdateResult(operation_id=1, status=<UpdateStatus.COMPLETED: 'completed'>)"
      ]
     },
     "execution_count": 36,
     "metadata": {},
     "output_type": "execute_result"
    }
   ],
   "source": [
    "q_client.create_payload_index(\n",
    "    collection_name=collection_name,\n",
    "    field_name=\"facility_level\",\n",
    "    field_schema=\"keyword\"\n",
    ")"
   ]
  },
  {
   "cell_type": "code",
   "execution_count": 37,
   "id": "c5a692c5",
   "metadata": {},
   "outputs": [],
   "source": [
    "model_handle = \"jinaai/jina-embeddings-v2-small-en\"\n"
   ]
  },
  {
   "cell_type": "code",
   "execution_count": 38,
   "id": "35c8a0b1",
   "metadata": {},
   "outputs": [],
   "source": [
    "points = []\n",
    "\n",
    "for i, doc in enumerate(documents_raw):\n",
    "    text = doc['question'] + ' ' + doc['text']\n",
    "    vector = models.Document(text=text, model=model_handle)\n",
    "    point = models.PointStruct(\n",
    "        id=i,\n",
    "        vector=vector,\n",
    "        payload=doc\n",
    "    )\n",
    "    points.append(point)\n"
   ]
  },
  {
   "cell_type": "code",
   "execution_count": 33,
   "id": "f0becbe6",
   "metadata": {},
   "outputs": [
    {
     "data": {
      "text/plain": [
       "128115"
      ]
     },
     "execution_count": 33,
     "metadata": {},
     "output_type": "execute_result"
    }
   ],
   "source": [
    "# points[2]\n",
    "len(points)"
   ]
  },
  {
   "cell_type": "code",
   "execution_count": null,
   "id": "df7c575e",
   "metadata": {},
   "outputs": [
    {
     "name": "stdout",
     "output_type": "stream",
     "text": [
      "Resuming from index 123000\n"
     ]
    },
    {
     "name": "stderr",
     "output_type": "stream",
     "text": [
      "Upserting to Qdrant:  83%|████████▎ | 43/52 [07:44<01:02,  6.98s/it]"
     ]
    }
   ],
   "source": [
    "\n",
    "# === CONFIG ===\n",
    "batch_size = 100\n",
    "progress_file = \"qdrant_progress.json\"\n",
    "\n",
    "# Load last progress if exists\n",
    "start_index = 0\n",
    "if os.path.exists(progress_file):\n",
    "    with open(progress_file, \"r\") as f:\n",
    "        data = json.load(f)\n",
    "        start_index = data.get(\"last_index\", 0)\n",
    "        print(f\"Resuming from index {start_index}\")\n",
    "\n",
    "total_points = len(points)\n",
    "\n",
    "# Ensure each point has a unique ID\n",
    "for idx, p in enumerate(points):\n",
    "    p.id = idx  # or use uuid.uuid4().hex for random unique IDs\n",
    "\n",
    "# Iterate in batches\n",
    "for i in tqdm(range(start_index, total_points, batch_size), desc=\"Upserting to Qdrant\"):\n",
    "    batch = points[i:i + batch_size]\n",
    "\n",
    "    # Upsert this batch and wait for commit\n",
    "    q_client.upsert(\n",
    "        collection_name=collection_name,\n",
    "        points=batch,\n",
    "        wait=True  # ensures points are stored before continuing\n",
    "    )\n",
    "\n",
    "    # Save progress\n",
    "    with open(progress_file, \"w\") as f:\n",
    "        json.dump({\"last_index\": i + batch_size}, f)\n",
    "\n",
    "print(\"✅ Upload complete!\")\n",
    "\n",
    "# Optionally remove the progress file after success\n",
    "if os.path.exists(progress_file):\n",
    "    os.remove(progress_file)\n",
    "\n"
   ]
  },
  {
   "cell_type": "code",
   "execution_count": 42,
   "id": "3d9a42ea",
   "metadata": {},
   "outputs": [
    {
     "data": {
      "text/plain": [
       "CollectionsResponse(collections=[CollectionDescription(name='health-care-facility-rag')])"
      ]
     },
     "execution_count": 42,
     "metadata": {},
     "output_type": "execute_result"
    }
   ],
   "source": [
    "q_client.get_collections()"
   ]
  },
  {
   "cell_type": "code",
   "execution_count": null,
   "id": "054805ea",
   "metadata": {},
   "outputs": [],
   "source": [
    "# def search(query, limit=1):\n",
    "\n",
    "#     results = q_client.query_points(\n",
    "#         collection_name=collection_name,\n",
    "#         query=models.Document( #embed the query text locally with \"jinaai/jina-embeddings-v2-small-en\"\n",
    "#             text=query,\n",
    "#             model=model_handle \n",
    "#         ),\n",
    "#         limit=limit, # top closest matches\n",
    "#         with_payload=True #to get metadata in the results\n",
    "#     )\n",
    "\n",
    "#     return results\n",
    "\n",
    "\n",
    "\n",
    "# # \n"
   ]
  },
  {
   "cell_type": "code",
   "execution_count": null,
   "id": "559ff1a5",
   "metadata": {},
   "outputs": [],
   "source": [
    "# q = \"How many hospital are in Bwari LGA\"\n",
    "# result = search(query=q)"
   ]
  },
  {
   "cell_type": "code",
   "execution_count": null,
   "id": "4f2d5263",
   "metadata": {},
   "outputs": [
    {
     "data": {
      "text/plain": [
       "{'text': 'Facility Name: Bwari General Hospital  (Bwari)\\nState: Fct\\nLGA: Bwari\\nWard: Bwari Central\\nFacility Level: Secondary\\nOwnership: Public (State Government)\\nStart Date: 2002-03-01\\nOperational Status: Operational\\nRegistration Status: Registered\\nLicense Status: Not Applicable\\nHours of Operation: 24 hours\\nDoctors: 12, Nurses: 20, Midwives: 1, Pharmacists: 10, Pharmacy Technicians: 1, Dentists: 1, Dental Technicians: 1, Nurses/Midwives: 35, Lab Technicians: 2, Lab Scientists: 15, Health Records/HIM Officers: 6, Community Health Officers: 4, Community Health Extension Workers: 2, Junior CHEWs: 1, Environmental Health Workers: 0, Health Attendants/Assistants: 10\\nBeds: 60',\n",
       " 'section': 'Facility Type',\n",
       " 'question': 'What type of facility is Bwari General Hospital  (Bwari)?'}"
      ]
     },
     "execution_count": 30,
     "metadata": {},
     "output_type": "execute_result"
    }
   ],
   "source": [
    "# result.points[0].payload"
   ]
  },
  {
   "cell_type": "code",
   "execution_count": null,
   "id": "8d063d6d",
   "metadata": {},
   "outputs": [],
   "source": []
  },
  {
   "cell_type": "code",
   "execution_count": null,
   "id": "44707f1f",
   "metadata": {},
   "outputs": [],
   "source": []
  },
  {
   "cell_type": "markdown",
   "id": "d37cb067",
   "metadata": {},
   "source": []
  },
  {
   "cell_type": "code",
   "execution_count": 18,
   "id": "b9fe6714",
   "metadata": {},
   "outputs": [],
   "source": [
    "def search(query, limit=1):\n",
    "    \"\"\"Search the FAQ database using Qdrant client.\"\"\"\n",
    "    try:\n",
    "        results = q_client.query_points(\n",
    "            collection_name=collection_name,\n",
    "            query=models.Document(\n",
    "                text=query,\n",
    "                model=model_handle\n",
    "            ),\n",
    "            limit=limit,\n",
    "            with_payload=True\n",
    "        )\n",
    "        return results\n",
    "    except Exception as e:\n",
    "        print(f\"Search error: {str(e)}\")\n",
    "        return None\n",
    "\n",
    "def build_prompt(query, search_results):\n",
    "    \"\"\"Build a prompt for the LLM using search results.\"\"\"\n",
    "    prompt_template = \"\"\"\n",
    "You are a health facility information assistant. Answer the QUESTION based on the CONTEXT from the FAQ database.\n",
    "Use only the facts from the CONTEXT when answering the QUESTION.\n",
    "\n",
    "Provide a clear and concise answer to the QUESTION using only the facts from the CONTEXT provided.\n",
    "Do not include any assumptions or external information.\n",
    "\n",
    "If the CONTEXT is empty or does not contain sufficient information to answer the QUESTION,\n",
    "respond with: \"No relevant information found to answer the question.\"\n",
    "\n",
    "QUESTION: {question}\n",
    "\n",
    "CONTEXT: {context}\n",
    "\"\"\".strip()\n",
    "\n",
    "    context = \"\"\n",
    "\n",
    "    # Handle empty or invalid search results\n",
    "    if not search_results:\n",
    "        return prompt_template.format(question=query, context=\"No relevant information found.\")\n",
    "\n",
    "    # Check if search_results has points (Qdrant QueryResponse)\n",
    "    if hasattr(search_results, 'points'):\n",
    "        points = search_results.points\n",
    "    else:\n",
    "        # Assume search_results is a tuple or list of dictionaries\n",
    "        points = search_results\n",
    "\n",
    "    # Build context from points\n",
    "    for point in points:\n",
    "        try:\n",
    "            # If point is a dict (tuple/list case)\n",
    "            if isinstance(point, dict):\n",
    "                section = point.get('section', 'N/A')\n",
    "                question = point.get('question', 'N/A')\n",
    "                text = point.get('text', 'N/A')\n",
    "            # If point is a Qdrant Point with payload\n",
    "            else:\n",
    "                section = point.payload.get('section', 'N/A')\n",
    "                question = point.payload.get('question', 'N/A')\n",
    "                text = point.payload.get('text', 'N/A')\n",
    "            context += f\"Section: {section}\\nQuestion: {question}\\nAnswer: {text}\\n\\n\"\n",
    "        except (AttributeError, KeyError) as e:\n",
    "            context += f\"Invalid data format in search results: {str(e)}\\n\\n\"\n",
    "\n",
    "    # If no valid context was built, return default message\n",
    "    if not context.strip():\n",
    "        context = \"No relevant information found.\"\n",
    "\n",
    "    return prompt_template.format(question=query, context=context.strip())\n",
    "\n",
    "def llm(prompt):\n",
    "    \"\"\"Generate a response using the LLM.\"\"\"\n",
    "    try:\n",
    "        response = client.chat.completions.create(\n",
    "            messages=[{\"role\": \"user\", \"content\": prompt}],\n",
    "            model=\"llama-3.3-70b-versatile\"\n",
    "        )\n",
    "        return response.choices[0].message.content\n",
    "    except Exception as e:\n",
    "        return f\"LLM error: {str(e)}\"\n",
    "\n",
    "def rag(query):\n",
    "    \"\"\"Run the RAG pipeline: search, build prompt, and generate answer.\"\"\"\n",
    "    search_results = search(query)\n",
    "    prompt = build_prompt(query, search_results)\n",
    "    answer = llm(prompt)\n",
    "    return answer"
   ]
  },
  {
   "cell_type": "code",
   "execution_count": null,
   "id": "699a6790",
   "metadata": {},
   "outputs": [
    {
     "name": "stdout",
     "output_type": "stream",
     "text": [
      "There is a public health facility close to you, which is the Ijegun Primary Health Centre. However, according to the information, it does not have any doctors. It has other healthcare personnel such as 2 Nurses/Midwives, 1 Community Health Extension Worker, and 1 Health Attendant/Assistant.\n"
     ]
    }
   ],
   "source": [
    "q = \"i'm in Ijegun which public health facilities close to me, do they have doctor the?\"\n",
    "answer = rag(q)\n",
    "print(answer)"
   ]
  },
  {
   "cell_type": "code",
   "execution_count": null,
   "id": "40667202",
   "metadata": {},
   "outputs": [],
   "source": []
  },
  {
   "cell_type": "code",
   "execution_count": null,
   "id": "3b5eec65",
   "metadata": {},
   "outputs": [],
   "source": []
  },
  {
   "cell_type": "code",
   "execution_count": null,
   "id": "ee741ae6",
   "metadata": {},
   "outputs": [],
   "source": []
  },
  {
   "cell_type": "code",
   "execution_count": null,
   "id": "c1c38813",
   "metadata": {},
   "outputs": [],
   "source": []
  }
 ],
 "metadata": {
  "kernelspec": {
   "display_name": "Python 3",
   "language": "python",
   "name": "python3"
  },
  "language_info": {
   "codemirror_mode": {
    "name": "ipython",
    "version": 3
   },
   "file_extension": ".py",
   "mimetype": "text/x-python",
   "name": "python",
   "nbconvert_exporter": "python",
   "pygments_lexer": "ipython3",
   "version": "3.10.11"
  }
 },
 "nbformat": 4,
 "nbformat_minor": 5
}
